{
 "cells": [
  {
   "cell_type": "code",
   "execution_count": 14,
   "metadata": {},
   "outputs": [],
   "source": [
    "import tkinter as tk\n",
    "from PIL import Image, ImageTk\n",
    "import pandas as pd\n",
    "\n",
    "root = tk.Tk()\n",
    "root.title(\"Professor Samads GUI App\")\n",
    "\n",
    "# Read the data from the Excel file into a pandas dataframe\n",
    "df = pd.read_excel('summary.xlsx')\n",
    "\n",
    "# Create a label with \"Hello, World!\" and add it to the window\n",
    "label1 = tk.Label(root, text=\"Professor Samads GUI App\", font=(\"Arial\", 24))\n",
    "label1.grid(row=0, column=0, columnspan=3)\n",
    "\n",
    "# Load the first image and create a photo image from it\n",
    "img1 = Image.open(\"./input/BV-CH R1-A_c2+3m01.tif\")\n",
    "img1.thumbnail((400, 400))\n",
    "photo1 = ImageTk.PhotoImage(img1)\n",
    "\n",
    "# Create a label with the first photo image and add it to the window\n",
    "label2 = tk.Label(root, image=photo1)\n",
    "label2.grid(row=1, column=0, padx=5, pady=5)\n",
    "\n",
    "# Create a label with the value of the first row of the 'Live' column from the dataframe\n",
    "live_value = df.loc[0, 'live']\n",
    "label3 = tk.Label(root, text=f\"Live: {live_value}\")\n",
    "label3.grid(row=2, column=0, padx=5, pady=5)\n",
    "\n",
    "# Create an Entry widget for the user to enter a number\n",
    "entry_var = tk.StringVar()\n",
    "entry = tk.Entry(root, textvariable=entry_var)\n",
    "entry.grid(row=2, column=1, padx=5, pady=5)\n",
    "\n",
    "# Load the second image and create a photo image from it\n",
    "img2 = Image.open(\"./output/BV-CH R1-A_c2+3m01_1_live-enhanced..jpeg\")\n",
    "img2.thumbnail((400, 400))\n",
    "photo2 = ImageTk.PhotoImage(img2)\n",
    "\n",
    "# Create a label with the second photo image and add it to the window\n",
    "label4 = tk.Label(root, image=photo2)\n",
    "label4.grid(row=1, column=1, padx=5, pady=5)\n",
    "\n",
    "# Add a new row with three clickable fields: 'Before', 'Update' and 'Next'\n",
    "before_button = tk.Button(root, text=\"Before\")\n",
    "before_button.grid(row=3, column=0, padx=5, pady=5, sticky=\"we\")\n",
    "\n",
    "update_button = tk.Button(root, text=\"Update\")\n",
    "update_button.grid(row=3, column=1, padx=5, pady=5, sticky=\"we\")\n",
    "\n",
    "next_button = tk.Button(root, text=\"Next\")\n",
    "next_button.grid(row=3, column=2, padx=5, pady=5, sticky=\"we\")\n",
    "\n",
    "root.mainloop()\n",
    "\n"
   ]
  },
  {
   "cell_type": "code",
   "execution_count": 11,
   "metadata": {},
   "outputs": [],
   "source": []
  },
  {
   "cell_type": "code",
   "execution_count": null,
   "metadata": {},
   "outputs": [],
   "source": []
  }
 ],
 "metadata": {
  "kernelspec": {
   "display_name": "Python 3",
   "language": "python",
   "name": "python3"
  },
  "language_info": {
   "codemirror_mode": {
    "name": "ipython",
    "version": 3
   },
   "file_extension": ".py",
   "mimetype": "text/x-python",
   "name": "python",
   "nbconvert_exporter": "python",
   "pygments_lexer": "ipython3",
   "version": "3.10.9"
  },
  "orig_nbformat": 4,
  "vscode": {
   "interpreter": {
    "hash": "6554a4b1fb4e05197f89a0290f268f863fcd55b2475599ecd5a097fc9323347a"
   }
  }
 },
 "nbformat": 4,
 "nbformat_minor": 2
}
